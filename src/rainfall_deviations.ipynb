{
 "cells": [
  {
   "cell_type": "code",
   "execution_count": null,
   "id": "d31b500b-5801-4100-81fa-230a13a7b951",
   "metadata": {
    "tags": []
   },
   "outputs": [],
   "source": [
    "import os\n",
    "import xarray as xr\n",
    "from multiprocess import Pool\n",
    "import itertools\n",
    "import pandas as pd\n",
    "\n",
    "# read in the GWL baseline periods\n",
    "df_baseline = pd.read_csv(\"../data/input/cmip6_wl_0p84_baselines_41years.csv\")\n",
    "\n",
    "def calculate_regional_mon_dev(filename, mon_tot_path=\"../../../sharepoint/Data/Climate projections/cmip6_ng_adm1_new/mon_tot_regrid\", output_path=\"../../../sharepoint/Data/Climate projections/cmip6_ng_adm1_new/new_mon_dev_regrid\", df_baseline_used = df_baseline):\n",
    "    ds = xr.open_dataset(os.path.join(mon_tot_path, filename))\n",
    "    \n",
    "    # extract the CMIP6 model name and the scenario from the filename\n",
    "    pattern_model = r'_pr_(.*?)_g025'\n",
    "    pattern_match = re.search(pattern_model, filename).group(1)\n",
    "    baseline = df_baseline_used.loc[df_baseline_used['modelscenarioensemble'] == pattern_match]\n",
    "    \n",
    "    # if we get no match or multiple ones, throw a warning and exit. Otherwise, we continue\n",
    "    if len(baseline) > 1:\n",
    "        print(\"Warning: baseline contains more than one row corresponding to \"+pattern_match+\". Please inspect\")\n",
    "        return None\n",
    "\n",
    "    if len(baseline) == 0:\n",
    "        print(\"Warning: baseline contains zero rows corresponding to \"+pattern_match+\". Please inspect\")\n",
    "        return None\n",
    "    \n",
    "    # use the years in the 'beg' and 'end' column to create date stamps for slicing\n",
    "    baseline_beg = str(baseline[\"beg\"].values[0]) + \"-01-01\"\n",
    "    baseline_end = str(baseline[\"end\"].values[0]) + \"-12-30\"\n",
    "    \n",
    "    # Calculate historical averages over 1979-2019 baseline period\n",
    "    monthclim = ds.pr.sel(time=slice(baseline_beg, baseline_end)).groupby(\"time.month\").mean()\n",
    "    monthstd = ds.pr.sel(time=slice(baseline_beg,  baseline_end)).groupby(\"time.month\").std()\n",
    "    anntotal = monthclim.sum('month')\n",
    " \n",
    "    # Calculate the Kotz et al. 2022 equation\n",
    "    ratio = ((ds.pr.groupby(\"time.month\") - monthclim).groupby('time.month') / monthstd)\n",
    "    bymonth = ratio.groupby('time.month') * monthclim / anntotal\n",
    "    byyear = bymonth.groupby('time.year').sum()\n",
    "    \n",
    "    ds2 = byyear.to_dataset()\n",
    "    ds2['GID_0'] = ds.GID_0\n",
    "    ds2['NAME_0'] = ds.NAME_0\n",
    "    ds2['GID_1'] = ds.GID_1\n",
    "    ds2['NAME_1'] = ds.NAME_1\n",
    "    ds2['VARNAME_1'] = ds.VARNAME_1\n",
    "    ds2['NL_NAME_1'] = ds.NL_NAME_1\n",
    "    ds2['TYPE_1'] = ds.TYPE_1\n",
    "    ds2['ENGTYPE_1'] = ds.ENGTYPE_1\n",
    "    ds2['CC_1'] = ds.CC_1\n",
    "    ds2['HASC_1'] = ds.HASC_1\n",
    "    \n",
    "    ds2.to_netcdf(os.path.join(output_path, filename.replace(\"mon_totd\", \"new_mon_dev\")))\n"
   ]
  },
  {
   "cell_type": "code",
   "execution_count": null,
   "id": "c8752f2f-02b1-4fc2-800b-f48857f37119",
   "metadata": {
    "tags": []
   },
   "outputs": [],
   "source": [
    "# test once (COMMENTED OUT - UNCOMMENT IF NEEDED)\n",
    "# calculate_regional_mon_dev(filename = os.listdir(\"../../sharepoint/Data/Climate projections/cmip6_ng_adm1_new/mon_totd_regrid\")[1], mon_tot_path = \"../../sharepoint/Data/Climate projections/cmip6_ng_adm1_new/mon_totd_regrid\", output_path = \"../../sharepoint/Data/Climate projections/cmip6_ng_adm1_new/new_mon_dev_regrid\" )"
   ]
  },
  {
   "cell_type": "code",
   "execution_count": null,
   "id": "54947618-cefb-41bc-8bb7-c2337b169d24",
   "metadata": {
    "tags": []
   },
   "outputs": [],
   "source": [
    "# set up the pool for parallel processing (bias-corrected data)\n",
    "pool = Pool(processes = 36)\n",
    "# run in parallel for bias-corrected data\n",
    "pool.starmap(calculate_regional_mon_dev, zip(os.listdir(\"../../sharepoint/Data/Climate projections/cmip6_ng_adm1_new/bc_mon_totd_regrid\"), itertools.repeat(\"../../sharepoint/Data/Climate projections/cmip6_ng_adm1_new/bc_mon_totd_regrid\"), itertools.repeat(\"../../sharepoint/Data/Climate projections/cmip6_ng_adm1_new/bc_new_mon_dev_regrid\"), itertools.repeat(df_baseline))) \n",
    "pool.close()"
   ]
  },
  {
   "cell_type": "code",
   "execution_count": null,
   "id": "eb5c3d5a-0bd3-479e-bce4-73569da79460",
   "metadata": {
    "tags": []
   },
   "outputs": [],
   "source": [
    "# repeat for raw CMIP6 data\n",
    "pool = Pool(processes = 36)\n",
    "# run in parallel for raw data\n",
    "pool.starmap(calculate_regional_mon_dev, zip(os.listdir(\"../../sharepoint/Data/Climate projections/cmip6_ng_adm1_new/mon_totd_regrid\"), itertools.repeat(\"../../sharepoint/Data/Climate projections/cmip6_ng_adm1_new/mon_totd_regrid\"), itertools.repeat(\"../../sharepoint/Data/Climate projections/cmip6_ng_adm1_new/new_mon_dev_regrid\"), itertools.repeat(df_baseline)))\n",
    "pool.close()"
   ]
  }
 ],
 "metadata": {
  "kernelspec": {
   "display_name": "Python (iacpy3_2022)",
   "language": "python",
   "name": "iacpy3_2022"
  },
  "language_info": {
   "codemirror_mode": {
    "name": "ipython",
    "version": 3
   },
   "file_extension": ".py",
   "mimetype": "text/x-python",
   "name": "python",
   "nbconvert_exporter": "python",
   "pygments_lexer": "ipython3",
   "version": "3.9.10"
  }
 },
 "nbformat": 4,
 "nbformat_minor": 5
}
